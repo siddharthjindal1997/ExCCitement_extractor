{
 "cells": [
  {
   "cell_type": "code",
   "execution_count": 2,
   "metadata": {
    "collapsed": true
   },
   "outputs": [],
   "source": [
    "import cv2 \n",
    "import numpy \n",
    "import skvideo.io as skv\n"
   ]
  },
  {
   "cell_type": "code",
   "execution_count": 3,
   "metadata": {
    "scrolled": true
   },
   "outputs": [
    {
     "name": "stdout",
     "output_type": "stream",
     "text": [
      "('time taken for processing = ', 13.881577149, 'seconds')\n"
     ]
    }
   ],
   "source": [
    "def process_frame(frame_img,frame_num,start_time= None,last_frame=None,last_frame_hsv=None, threshold = 40.0):\n",
    "    #resizing frame to a very low resolution\n",
    "    frame_img = cv2.resize(frame_img, (80,60))\n",
    "    cut_detected= False\n",
    "    \n",
    "    if last_frame is not None:\n",
    "        #convert rgb to hsv\n",
    "        hsv_curr_frame_img = cv2.cvtColor(frame_img, cv2.COLOR_BGR2HSV)\n",
    "        hsv_last_frame_img = cv2.cvtColor(last_frame, cv2.COLOR_BGR2HSV)\n",
    "        #split frame channels\n",
    "        curr_frame_hsv =[ hsv_curr_frame_img[:, :, 0], hsv_curr_frame_img[:, :, 1], hsv_curr_frame_img[:, :, 2] ]#array of 3 channels H,S,V\n",
    "        last_frame_hsv =[ hsv_last_frame_img[:, :, 0], hsv_last_frame_img[:, :, 1], hsv_last_frame_img[:, :, 2] ]\n",
    "\n",
    "        delta_hsv_avg, delta_h, delta_s, delta_v = 0.0, 0.0, 0.0, 0.0\n",
    "\n",
    "        #calculate change in frame hsv values\n",
    "        delta_hsv = [-1, -1, -1]\n",
    "        for i in range(3):\n",
    "            num_pixels= curr_frame_hsv[i].shape[0] * curr_frame_hsv[i].shape[1]\n",
    "            curr_frame_hsv[i] = curr_frame_hsv[i].astype(numpy.int32)\n",
    "            last_frame_hsv[i] = last_frame_hsv[i].astype(numpy.int32)\n",
    "            delta_hsv[i] = numpy.sum(numpy.abs(curr_frame_hsv[i] - last_frame_hsv[i])) / float(num_pixels)\n",
    "        delta_hsv.append(sum(delta_hsv) / 3.0)\n",
    "        delta_h, delta_s, delta_v, delta_hsv_avg = delta_hsv\n",
    "\n",
    "        last_frame_hsv = curr_frame_hsv\n",
    "\n",
    "        if delta_hsv_avg >= threshold:\n",
    "            cut_detected=True \n",
    "            #print('cut detected ')\n",
    "    \n",
    "        del last_frame\n",
    "    \n",
    "    last_frame=frame_img.copy()\n",
    "    return cut_detected\n",
    "    \n",
    "    \n",
    "    \n",
    "    \n",
    "def get_cuts(cap):\n",
    "    frame_num = 0\n",
    "    cuts_list = list()\n",
    "    frames_list = list()\n",
    "    while True:\n",
    "        ret, frame = cap.read()\n",
    "        frame_num += 1        \n",
    "        if not ret:\n",
    "            break\n",
    "        if process_frame(frame,frame_num):\n",
    "            #list of frame numbers with cuts\n",
    "            cuts_list.append(frame_num)\n",
    "            frames_list.append(frame)\n",
    "    \n",
    "    \n",
    "    print('time taken for processing = ', (cv2.getTickCount() - start_time)/cv2.getTickFrequency() , 'seconds')\n",
    "    \n",
    "    print ' cuts detected at frames :'\n",
    "    for frame in frames_list:\n",
    "        cv2.imshow('frame',frame)\n",
    "        cv2.waitKey(0)\n",
    "        \n",
    "\n",
    "#a twenty second video clip \n",
    "cap = skv.VideoCapture(\"595_615.mp4\") \n",
    "global start_time  \n",
    "start_time = cv2.getTickCount()\n",
    "\n",
    "if not cap.isOpened():\n",
    "    print ('ERROR')\n",
    "else:\n",
    "    get_cuts(cap)\n",
    "\n",
    "cap.release()\n",
    "cv2.destroyAllWindows()"
   ]
  },
  {
   "cell_type": "code",
   "execution_count": 3,
   "metadata": {
    "scrolled": true
   },
   "outputs": [
    {
     "data": {
      "text/plain": [
       "True"
      ]
     },
     "execution_count": 3,
     "metadata": {},
     "output_type": "execute_result"
    }
   ],
   "source": []
  },
  {
   "cell_type": "code",
   "execution_count": null,
   "metadata": {
    "collapsed": true
   },
   "outputs": [],
   "source": []
  }
 ],
 "metadata": {
  "kernelspec": {
   "display_name": "Python 2",
   "language": "python",
   "name": "python2"
  },
  "language_info": {
   "codemirror_mode": {
    "name": "ipython",
    "version": 2
   },
   "file_extension": ".py",
   "mimetype": "text/x-python",
   "name": "python",
   "nbconvert_exporter": "python",
   "pygments_lexer": "ipython2",
   "version": "2.7.13"
  }
 },
 "nbformat": 4,
 "nbformat_minor": 2
}
